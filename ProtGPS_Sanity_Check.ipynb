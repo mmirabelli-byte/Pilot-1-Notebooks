{
 "cells": [
  {
   "cell_type": "markdown",
   "id": "cae799d2",
   "metadata": {},
   "source": [
    "original code from prot gps github repo, link to notebook: https://github.com/pgmikhael/protgps/blob/main/notebook/Predict.ipynb"
   ]
  },
  {
   "cell_type": "code",
   "execution_count": null,
   "id": "54dcdd31",
   "metadata": {},
   "outputs": [],
   "source": []
  },
  {
   "cell_type": "code",
   "execution_count": 1,
   "id": "7e6b5f89",
   "metadata": {},
   "outputs": [],
   "source": [
    "PROTGPS_PARENT_DIR = \"/Users/marcellamirabelli/Desktop/rbp_localization_project/models/ProtGPS/protgps-main\" # point to the protgps local repo"
   ]
  },
  {
   "cell_type": "code",
   "execution_count": 2,
   "id": "e1d01a98",
   "metadata": {},
   "outputs": [],
   "source": [
    "import sys\n",
    "import os\n",
    "sys.path.append(PROTGPS_PARENT_DIR) # append the path of protgps\n",
    "from argparse import Namespace\n",
    "import pickle\n",
    "from tqdm import tqdm\n",
    "import pandas as pd\n",
    "import torch \n",
    "from protgps.utils.loading import get_object"
   ]
  },
  {
   "cell_type": "code",
   "execution_count": 3,
   "id": "d3d9c7c3",
   "metadata": {},
   "outputs": [],
   "source": [
    "device = torch.device(\"cuda:0\" if torch.cuda.is_available() else \"cpu\")"
   ]
  },
  {
   "cell_type": "code",
   "execution_count": 4,
   "id": "a2d0d95d",
   "metadata": {},
   "outputs": [],
   "source": [
    "COMPARTMENT_CLASSES = [\n",
    "    \"nuclear_speckle\",\n",
    "    \"p-body\",\n",
    "    \"pml-bdoy\",\n",
    "    \"post_synaptic_density\",\n",
    "    \"stress_granule\",\n",
    "    \"chromosome\",\n",
    "    \"nucleolus\",\n",
    "    \"nuclear_pore_complex\",\n",
    "    \"cajal_body\",\n",
    "    \"rna_granule\",\n",
    "    \"cell_junction\",\n",
    "    \"transcriptional\"\n",
    "]\n",
    "\n",
    "def load_model(snargs):\n",
    "    \"\"\"\n",
    "    Loads classifier model from args file\n",
    "    \"\"\"\n",
    "    modelpath = snargs.model_path\n",
    "    model = get_object(snargs.lightning_name, \"lightning\")(snargs)\n",
    "    model = model.load_from_checkpoint(\n",
    "        checkpoint_path = modelpath,\n",
    "        strict=not snargs.relax_checkpoint_matching,\n",
    "        **{\"args\": snargs},\n",
    "    )\n",
    "    return model\n",
    "\n",
    "@torch.no_grad()\n",
    "def predict_condensates(model, sequences, batch_size=1, round=True):\n",
    "    scores = []\n",
    "    for i in tqdm(range(0, len(sequences), batch_size), ncols=100):\n",
    "        batch = sequences[ i : (i + batch_size)]\n",
    "        out = model.model({\"x\": batch})    \n",
    "        s = torch.sigmoid(out['logit']).to(\"cpu\")\n",
    "        scores.append(s)\n",
    "    scores = torch.vstack(scores)\n",
    "    if round:\n",
    "        scores = torch.round(scores, decimals=3)\n",
    "    return scores"
   ]
  },
  {
   "cell_type": "code",
   "execution_count": 5,
   "id": "36afe322",
   "metadata": {},
   "outputs": [
    {
     "name": "stderr",
     "output_type": "stream",
     "text": [
      "Using cache found in /users/marcellamirabelli/protgps/esm_models/esm2/facebookresearch_esm_main\n"
     ]
    },
    {
     "name": "stdout",
     "output_type": "stream",
     "text": [
      "Using ESM hidden layers 6\n",
      "Using ESM hidden layers 6\n"
     ]
    },
    {
     "name": "stderr",
     "output_type": "stream",
     "text": [
      "Using cache found in /users/marcellamirabelli/protgps/esm_models/esm2/facebookresearch_esm_main\n"
     ]
    }
   ],
   "source": [
    "args = Namespace(**pickle.load(open(os.path.join(PROTGPS_PARENT_DIR, 'protgps/checkpoints/protgps/32bf44b16a4e770a674896b81dfb3729.args'), 'rb')))\n",
    "args.model_path = os.path.join(PROTGPS_PARENT_DIR, 'protgps/checkpoints/protgps/32bf44b16a4e770a674896b81dfb3729epoch=26.ckpt')\n",
    "args.pretrained_hub_dir = \"/users/marcellamirabelli/protgps/esm_models/esm2\" # should point to folder with ESM2 facebookresearch_esm_main directory\n",
    "model = load_model(args)\n",
    "model.eval()\n",
    "model = model.to(device)\n"
   ]
  },
  {
   "cell_type": "code",
   "execution_count": 6,
   "id": "53e0f73c",
   "metadata": {},
   "outputs": [],
   "source": [
    "sequences = [\n",
    "    # UniProt O15116\n",
    "    \"MNYMPGTASLIEDIDKKHLVLLRDGRTLIGFLRSIDQFANLVLHQTVERIHVGKKYGDIPRGIFVVRGENVVLLGEIDLEKESDTPLQQVSIEEILEEQRVEQQTKLEAEKLKVQALKDRGLSIPRADTLDEY\", \n",
    "    # Uniprot P38432\n",
    "    \"MAASETVRLRLQFDYPPPATPHCTAFWLLVDLNRCRVVTDLISLIRQRFGFSSGAFLGLYLEGGLLPPAESARLVRDNDCLRVKLEERGVAENSVVISNGDINLSLRKAKKRAFQLEEGEETEPDCKYSKKHWKSRENNNNNEKVLDLEPKAVTDQTVSKKNKRKNKATCGTVGDDNEEAKRKSPKKKEKCEYKKKAKNPKSPKVQAVKDWANQRCSSPKGSARNSLVKAKRKGSVSVCSKESPSSSSESESCDESISDGPSKVTLEARNSSEKLPTELSKEEPSTKNTTADKLAIKLGFSLTPSKGKTSGTTSSSSDSSAESDDQCLMSSSTPECAAGFLKTVGLFAGRGRPGPGLSSQTAGAAGWRRSGSNGGGQAPGASPSVSLPASLGRGWGREENLFSWKGAKGRGMRGRGRGRGHPVSCVVNRSTDNQRQQQLNDVVKNSSTIIQNPVETPKKDYSLLPLLAAAPQVGEKIAFKLLELTSSYSPDVSDYKEGRILSHNPETQQVDIEILSSLPALREPGKFDLVYHNENGAEVVEYAVTQESKITVFWKELIDPRLIIESPSNTSSTEPA\" ,\n",
    "    #test tile from final 115 library\n",
    "    \"KKRRKEQEEKAEIKRLKNSDDRDSKRDSLEEGELRDHRMEITIRNSPYRREDSMEDRGEEDDSLAIKPPQQMSRKEKVHHRKDEKRKEKRRHRSHSAEGGKHARVKEKEREHERR\",\n",
    "\n",
    "    \n",
    "\n",
    "]"
   ]
  },
  {
   "cell_type": "code",
   "execution_count": 7,
   "id": "631418f4",
   "metadata": {},
   "outputs": [
    {
     "name": "stderr",
     "output_type": "stream",
     "text": [
      "100%|█████████████████████████████████████████████████████████████████| 3/3 [00:00<00:00,  7.33it/s]\n"
     ]
    }
   ],
   "source": [
    "scores = predict_condensates(model, sequences, batch_size=1)"
   ]
  },
  {
   "cell_type": "code",
   "execution_count": 8,
   "id": "0d28a9d1",
   "metadata": {},
   "outputs": [],
   "source": [
    "data = {\"sequences\": sequences}\n",
    "for j,condensate in enumerate(COMPARTMENT_CLASSES):\n",
    "    data[f\"{condensate.upper()}_Score\"] = scores[:, j].tolist()"
   ]
  },
  {
   "cell_type": "code",
   "execution_count": 9,
   "id": "41161ccf",
   "metadata": {},
   "outputs": [
    {
     "data": {
      "text/html": [
       "<div>\n",
       "<style scoped>\n",
       "    .dataframe tbody tr th:only-of-type {\n",
       "        vertical-align: middle;\n",
       "    }\n",
       "\n",
       "    .dataframe tbody tr th {\n",
       "        vertical-align: top;\n",
       "    }\n",
       "\n",
       "    .dataframe thead th {\n",
       "        text-align: right;\n",
       "    }\n",
       "</style>\n",
       "<table border=\"1\" class=\"dataframe\">\n",
       "  <thead>\n",
       "    <tr style=\"text-align: right;\">\n",
       "      <th></th>\n",
       "      <th>sequences</th>\n",
       "      <th>NUCLEAR_SPECKLE_Score</th>\n",
       "      <th>P-BODY_Score</th>\n",
       "      <th>PML-BDOY_Score</th>\n",
       "      <th>POST_SYNAPTIC_DENSITY_Score</th>\n",
       "      <th>STRESS_GRANULE_Score</th>\n",
       "      <th>CHROMOSOME_Score</th>\n",
       "      <th>NUCLEOLUS_Score</th>\n",
       "      <th>NUCLEAR_PORE_COMPLEX_Score</th>\n",
       "      <th>CAJAL_BODY_Score</th>\n",
       "      <th>RNA_GRANULE_Score</th>\n",
       "      <th>CELL_JUNCTION_Score</th>\n",
       "      <th>TRANSCRIPTIONAL_Score</th>\n",
       "    </tr>\n",
       "  </thead>\n",
       "  <tbody>\n",
       "    <tr>\n",
       "      <th>0</th>\n",
       "      <td>MNYMPGTASLIEDIDKKHLVLLRDGRTLIGFLRSIDQFANLVLHQT...</td>\n",
       "      <td>0.000</td>\n",
       "      <td>0.999</td>\n",
       "      <td>0.000</td>\n",
       "      <td>0.0</td>\n",
       "      <td>0.0</td>\n",
       "      <td>0.0</td>\n",
       "      <td>0.001</td>\n",
       "      <td>0.001</td>\n",
       "      <td>0.000</td>\n",
       "      <td>0.0</td>\n",
       "      <td>0.0</td>\n",
       "      <td>0.0</td>\n",
       "    </tr>\n",
       "    <tr>\n",
       "      <th>1</th>\n",
       "      <td>MAASETVRLRLQFDYPPPATPHCTAFWLLVDLNRCRVVTDLISLIR...</td>\n",
       "      <td>0.000</td>\n",
       "      <td>0.000</td>\n",
       "      <td>0.003</td>\n",
       "      <td>0.0</td>\n",
       "      <td>0.0</td>\n",
       "      <td>0.0</td>\n",
       "      <td>0.004</td>\n",
       "      <td>0.002</td>\n",
       "      <td>0.992</td>\n",
       "      <td>0.0</td>\n",
       "      <td>0.0</td>\n",
       "      <td>0.0</td>\n",
       "    </tr>\n",
       "    <tr>\n",
       "      <th>2</th>\n",
       "      <td>KKRRKEQEEKAEIKRLKNSDDRDSKRDSLEEGELRDHRMEITIRNS...</td>\n",
       "      <td>0.199</td>\n",
       "      <td>0.005</td>\n",
       "      <td>0.000</td>\n",
       "      <td>0.0</td>\n",
       "      <td>0.0</td>\n",
       "      <td>0.0</td>\n",
       "      <td>0.988</td>\n",
       "      <td>0.000</td>\n",
       "      <td>0.000</td>\n",
       "      <td>0.0</td>\n",
       "      <td>0.0</td>\n",
       "      <td>0.0</td>\n",
       "    </tr>\n",
       "  </tbody>\n",
       "</table>\n",
       "</div>"
      ],
      "text/plain": [
       "                                           sequences  NUCLEAR_SPECKLE_Score  \\\n",
       "0  MNYMPGTASLIEDIDKKHLVLLRDGRTLIGFLRSIDQFANLVLHQT...                  0.000   \n",
       "1  MAASETVRLRLQFDYPPPATPHCTAFWLLVDLNRCRVVTDLISLIR...                  0.000   \n",
       "2  KKRRKEQEEKAEIKRLKNSDDRDSKRDSLEEGELRDHRMEITIRNS...                  0.199   \n",
       "\n",
       "   P-BODY_Score  PML-BDOY_Score  POST_SYNAPTIC_DENSITY_Score  \\\n",
       "0         0.999           0.000                          0.0   \n",
       "1         0.000           0.003                          0.0   \n",
       "2         0.005           0.000                          0.0   \n",
       "\n",
       "   STRESS_GRANULE_Score  CHROMOSOME_Score  NUCLEOLUS_Score  \\\n",
       "0                   0.0               0.0            0.001   \n",
       "1                   0.0               0.0            0.004   \n",
       "2                   0.0               0.0            0.988   \n",
       "\n",
       "   NUCLEAR_PORE_COMPLEX_Score  CAJAL_BODY_Score  RNA_GRANULE_Score  \\\n",
       "0                       0.001             0.000                0.0   \n",
       "1                       0.002             0.992                0.0   \n",
       "2                       0.000             0.000                0.0   \n",
       "\n",
       "   CELL_JUNCTION_Score  TRANSCRIPTIONAL_Score  \n",
       "0                  0.0                    0.0  \n",
       "1                  0.0                    0.0  \n",
       "2                  0.0                    0.0  "
      ]
     },
     "execution_count": 9,
     "metadata": {},
     "output_type": "execute_result"
    }
   ],
   "source": [
    "pd.DataFrame(data)"
   ]
  },
  {
   "cell_type": "code",
   "execution_count": null,
   "id": "f279e603",
   "metadata": {},
   "outputs": [],
   "source": []
  },
  {
   "cell_type": "code",
   "execution_count": null,
   "id": "e6071c9f",
   "metadata": {},
   "outputs": [],
   "source": []
  }
 ],
 "metadata": {
  "kernelspec": {
   "display_name": "protgps_env",
   "language": "python",
   "name": "python3"
  },
  "language_info": {
   "codemirror_mode": {
    "name": "ipython",
    "version": 3
   },
   "file_extension": ".py",
   "mimetype": "text/x-python",
   "name": "python",
   "nbconvert_exporter": "python",
   "pygments_lexer": "ipython3",
   "version": "3.8.20"
  }
 },
 "nbformat": 4,
 "nbformat_minor": 5
}
