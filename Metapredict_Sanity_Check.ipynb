{
 "cells": [
  {
   "cell_type": "code",
   "execution_count": 1,
   "id": "e9750ffe",
   "metadata": {},
   "outputs": [
    {
     "name": "stdout",
     "output_type": "stream",
     "text": [
      "Disorder scores: [0.8247 0.8767 0.905  0.9102 0.918  0.9234 0.9295 0.9304 0.93   0.934\n",
      " 0.9294 0.9279 0.932  0.9289 0.9274 0.9295 0.9248 0.9159 0.9254 0.9246\n",
      " 0.9152 0.9156 0.9104 0.911  0.9044 0.9052 0.8972 0.8932 0.8984 0.8948\n",
      " 0.8967 0.9084 0.9056 0.9173 0.9156 0.929  0.9335 0.9382 0.9403 0.9386]\n",
      "Binary disorder: [1 1 1 1 1 1 1 1 1 1 1 1 1 1 1 1 1 1 1 1 1 1 1 1 1 1 1 1 1 1 1 1 1 1 1 1 1\n",
      " 1 1 1]\n",
      "Disordered domains: DisorderObject for sequence with 66 residues, 1 IDRs, and 0 folded domains\n",
      "Available dot variables are:\n",
      "  .sequence\n",
      "  .disorder\n",
      "  .disordered_domain_boundaries\n",
      "  .folded_domain_boundaries\n",
      "  .disordered_domains\n",
      "  .folded_domains\n",
      "\n"
     ]
    }
   ],
   "source": [
    "# TEST CODE \n",
    "import metapredict as mp\n",
    "import numpy as np\n",
    "\n",
    "seq = \"HKALSSMSSLQPEASARGHFQGPPKDHSAHKISVTVSSSARPSGSGQEVGGQTAVKNQAKVECHTE\"\n",
    "\n",
    "# Float disorder scores\n",
    "scores = mp.predict_disorder(seq)\n",
    "print(\"Disorder scores:\", scores[:40])\n",
    "\n",
    "# Convert to binary using threshold = 0.42\n",
    "binary = (np.array(scores) > 0.42).astype(int)\n",
    "print(\"Binary disorder:\", binary[:40])\n",
    "\n",
    "# Domains (continuous disordered stretches)\n",
    "domains = mp.predict_disorder_domains(seq)\n",
    "print(\"Disordered domains:\", domains)\n"
   ]
  },
  {
   "cell_type": "code",
   "execution_count": 2,
   "id": "631c9f04",
   "metadata": {},
   "outputs": [
    {
     "name": "stdout",
     "output_type": "stream",
     "text": [
      "Average disorder: 0.9263969659805298\n"
     ]
    }
   ],
   "source": [
    "avg_disorder = float(np.mean(scores))\n",
    "print(\"Average disorder:\", avg_disorder)\n"
   ]
  },
  {
   "cell_type": "code",
   "execution_count": 6,
   "id": "c8f9d95f",
   "metadata": {},
   "outputs": [
    {
     "name": "stdout",
     "output_type": "stream",
     "text": [
      "Disorder scores: [0.8247 0.8767 0.905  0.9102 0.918  0.9234 0.9295 0.9304 0.93   0.934\n",
      " 0.9294 0.9279 0.932  0.9289 0.9274 0.9295 0.9248 0.9159 0.9254 0.9246\n",
      " 0.9152 0.9156 0.9104 0.911  0.9044 0.9052 0.8972 0.8932 0.8984 0.8948\n",
      " 0.8967 0.9084 0.9056 0.9173 0.9156 0.929  0.9335 0.9382 0.9403 0.9386]\n",
      "Binary disorder: [1 1 1 1 1 1 1 1 1 1 1 1 1 1 1 1 1 1 1 1 1 1 1 1 1 1 1 1 1 1 1 1 1 1 1 1 1\n",
      " 1 1 1]\n",
      "Disordered domains: DisorderObject for sequence with 66 residues, 1 IDRs, and 0 folded domains\n",
      "Available dot variables are:\n",
      "  .sequence\n",
      "  .disorder\n",
      "  .disordered_domain_boundaries\n",
      "  .folded_domain_boundaries\n",
      "  .disordered_domains\n",
      "  .folded_domains\n",
      "\n",
      "Average disorder: 0.9263969659805298\n"
     ]
    }
   ],
   "source": [
    "####testing for test protein \n",
    "# [SEQ from df_master for Q13427]\n",
    "# length: 754\n",
    "\n",
    "\n",
    "# TEST CODE \n",
    "import metapredict as mp\n",
    "import numpy as np\n",
    "\n",
    "seq = \"HKALSSMSSLQPEASARGHFQGPPKDHSAHKISVTVSSSARPSGSGQEVGGQTAVKNQAKVECHTE\"\n",
    "\n",
    "# Float disorder scores\n",
    "scores = mp.predict_disorder(seq)\n",
    "print(\"Disorder scores:\", scores[:40])\n",
    "\n",
    "# Convert to binary using threshold = 0.42\n",
    "binary = (np.array(scores) > 0.42).astype(int)\n",
    "print(\"Binary disorder:\", binary[:40])\n",
    "\n",
    "# Domains (continuous disordered stretches)\n",
    "domains = mp.predict_disorder_domains(seq)\n",
    "print(\"Disordered domains:\", domains)\n",
    "avg_disorder = float(np.mean(scores))\n",
    "print(\"Average disorder:\", avg_disorder)\n"
   ]
  },
  {
   "cell_type": "code",
   "execution_count": 1,
   "id": "85b84ef8",
   "metadata": {},
   "outputs": [
    {
     "name": "stdout",
     "output_type": "stream",
     "text": [
      "Disorder scores: [0.8071 0.8526 0.8809 0.8941 0.8885 0.8908 0.8823 0.8856 0.8836 0.8901\n",
      " 0.8946 0.8879 0.8858 0.8847 0.8853 0.8767 0.8779 0.8843 0.894  0.8863\n",
      " 0.888  0.8959 0.9111 0.8931 0.8999 0.9027 0.9015 0.8979 0.9065 0.9037\n",
      " 0.9063 0.9066 0.9085 0.9165 0.9163 0.9173 0.9186 0.9187 0.9214 0.9226]\n",
      "Binary disorder: [1 1 1 1 1 1 1 1 1 1 1 1 1 1 1 1 1 1 1 1 1 1 1 1 1 1 1 1 1 1 1 1 1 1 1 1 1\n",
      " 1 1 1]\n",
      "Disordered domains: DisorderObject for sequence with 66 residues, 1 IDRs, and 0 folded domains\n",
      "Available dot variables are:\n",
      "  .sequence\n",
      "  .disorder\n",
      "  .disordered_domain_boundaries\n",
      "  .folded_domain_boundaries\n",
      "  .disordered_domains\n",
      "  .folded_domains\n",
      "\n",
      "Average disorder: 0.9030500054359436\n"
     ]
    }
   ],
   "source": [
    "####testing for test protein \n",
    "# [SEQ from df_master for Q13427]\n",
    "# length: 754\n",
    "\n",
    "\n",
    "# TEST CODE \n",
    "import metapredict as mp\n",
    "import numpy as np\n",
    "\n",
    "seq = \"STLLPKKPTAIKTEGKPAEVKKMTAKSVPADLSRPKSTSTSSMKKTTTLSGTAPAAGVVPSRVKAT\"\n",
    "\n",
    "# Float disorder scores\n",
    "scores = mp.predict_disorder(seq)\n",
    "print(\"Disorder scores:\", scores[:40])\n",
    "\n",
    "# Convert to binary using threshold = 0.42\n",
    "binary = (np.array(scores) > 0.42).astype(int)\n",
    "print(\"Binary disorder:\", binary[:40])\n",
    "\n",
    "# Domains (continuous disordered stretches)\n",
    "domains = mp.predict_disorder_domains(seq)\n",
    "print(\"Disordered domains:\", domains)\n",
    "avg_disorder = float(np.mean(scores))\n",
    "print(\"Average disorder:\", avg_disorder)\n"
   ]
  },
  {
   "cell_type": "code",
   "execution_count": 2,
   "id": "26784309",
   "metadata": {},
   "outputs": [
    {
     "name": "stdout",
     "output_type": "stream",
     "text": [
      "Disorder scores: [0.874  0.8959 0.9148 0.9206 0.9255 0.9313 0.9344 0.9262 0.9243 0.9313\n",
      " 0.9293 0.932  0.9295 0.9324 0.9315 0.934  0.9393 0.9423 0.9503 0.9586\n",
      " 0.9646 0.9654 0.968  0.9703 0.9758 0.9762 0.9743 0.9742 0.9638 0.9607\n",
      " 0.9601 0.952  0.9579 0.9474 0.9466 0.9458 0.9372 0.9311 0.9292 0.9256]\n",
      "Binary disorder: [1 1 1 1 1 1 1 1 1 1 1 1 1 1 1 1 1 1 1 1 1 1 1 1 1 1 1 1 1 1 1 1 1 1 1 1 1\n",
      " 1 1 1]\n",
      "Disordered domains: DisorderObject for sequence with 66 residues, 1 IDRs, and 0 folded domains\n",
      "Available dot variables are:\n",
      "  .sequence\n",
      "  .disorder\n",
      "  .disordered_domain_boundaries\n",
      "  .folded_domain_boundaries\n",
      "  .disordered_domains\n",
      "  .folded_domains\n",
      "\n",
      "Average disorder: 0.9109621047973633\n"
     ]
    }
   ],
   "source": [
    "####testing for test protein \n",
    "# [SEQ from df_master for Q13427]\n",
    "# length: 754\n",
    "\n",
    "\n",
    "# TEST CODE \n",
    "import metapredict as mp\n",
    "import numpy as np\n",
    "\n",
    "seq = \"DGASQGMAAFRPRGRRSRPSSRGASPNRSTSVSSQAAQAASPQVPATTTPKGTPIQGSKLRLPGYL\"\n",
    "\n",
    "# Float disorder scores\n",
    "scores = mp.predict_disorder(seq)\n",
    "print(\"Disorder scores:\", scores[:40])\n",
    "\n",
    "# Convert to binary using threshold = 0.42\n",
    "binary = (np.array(scores) > 0.42).astype(int)\n",
    "print(\"Binary disorder:\", binary[:40])\n",
    "\n",
    "# Domains (continuous disordered stretches)\n",
    "domains = mp.predict_disorder_domains(seq)\n",
    "print(\"Disordered domains:\", domains)\n",
    "avg_disorder = float(np.mean(scores))\n",
    "print(\"Average disorder:\", avg_disorder)\n"
   ]
  },
  {
   "cell_type": "code",
   "execution_count": null,
   "id": "e2dfee35",
   "metadata": {},
   "outputs": [],
   "source": []
  }
 ],
 "metadata": {
  "kernelspec": {
   "display_name": "metapredict_env",
   "language": "python",
   "name": "python3"
  },
  "language_info": {
   "codemirror_mode": {
    "name": "ipython",
    "version": 3
   },
   "file_extension": ".py",
   "mimetype": "text/x-python",
   "name": "python",
   "nbconvert_exporter": "python",
   "pygments_lexer": "ipython3",
   "version": "3.10.18"
  }
 },
 "nbformat": 4,
 "nbformat_minor": 5
}
